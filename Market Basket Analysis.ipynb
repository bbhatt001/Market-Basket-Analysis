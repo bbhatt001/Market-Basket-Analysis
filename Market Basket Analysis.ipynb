{
 "cells": [
  {
   "cell_type": "code",
   "execution_count": 1,
   "metadata": {
    "_cell_guid": "b1076dfc-b9ad-4769-8c92-a6c4dae69d19",
    "_uuid": "8f2839f25d086af736a60e9eeb907d3b93b6e0e5"
   },
   "outputs": [],
   "source": [
    "#Importing necessary modules\n",
    "import numpy as np \n",
    "import pandas as pd \n",
    "%matplotlib inline\n",
    "import matplotlib.pyplot as plt\n",
    "import seaborn as sns\n",
    "from mlxtend.preprocessing import TransactionEncoder\n",
    "from mlxtend.frequent_patterns import apriori, association_rules\n",
    "import networkx as nx\n",
    "import warnings\n",
    "warnings.filterwarnings('ignore')"
   ]
  },
  {
   "cell_type": "markdown",
   "metadata": {
    "_uuid": "7bf2a3e4fba335c6490a1827c280aa993ad85510"
   },
   "source": [
    "This is followed by checking some dataset, its shape and statistics. As can be seen there are 4 columns and 21293 rows."
   ]
  },
  {
   "cell_type": "code",
   "execution_count": 2,
   "metadata": {
    "_cell_guid": "79c7e3d0-c299-4dcb-8224-4455121ee9b0",
    "_uuid": "d629ff2d2480ee46fbb7e2d37f6b5fab8052498a"
   },
   "outputs": [
    {
     "data": {
      "text/html": [
       "<div>\n",
       "<style scoped>\n",
       "    .dataframe tbody tr th:only-of-type {\n",
       "        vertical-align: middle;\n",
       "    }\n",
       "\n",
       "    .dataframe tbody tr th {\n",
       "        vertical-align: top;\n",
       "    }\n",
       "\n",
       "    .dataframe thead th {\n",
       "        text-align: right;\n",
       "    }\n",
       "</style>\n",
       "<table border=\"1\" class=\"dataframe\">\n",
       "  <thead>\n",
       "    <tr style=\"text-align: right;\">\n",
       "      <th></th>\n",
       "      <th>Date</th>\n",
       "      <th>Time</th>\n",
       "      <th>Transaction</th>\n",
       "      <th>Item</th>\n",
       "    </tr>\n",
       "  </thead>\n",
       "  <tbody>\n",
       "    <tr>\n",
       "      <th>0</th>\n",
       "      <td>2016-10-30</td>\n",
       "      <td>09:58:11</td>\n",
       "      <td>1</td>\n",
       "      <td>Bread</td>\n",
       "    </tr>\n",
       "    <tr>\n",
       "      <th>1</th>\n",
       "      <td>2016-10-30</td>\n",
       "      <td>10:05:34</td>\n",
       "      <td>2</td>\n",
       "      <td>Scandinavian</td>\n",
       "    </tr>\n",
       "    <tr>\n",
       "      <th>2</th>\n",
       "      <td>2016-10-30</td>\n",
       "      <td>10:05:34</td>\n",
       "      <td>2</td>\n",
       "      <td>Scandinavian</td>\n",
       "    </tr>\n",
       "    <tr>\n",
       "      <th>3</th>\n",
       "      <td>2016-10-30</td>\n",
       "      <td>10:07:57</td>\n",
       "      <td>3</td>\n",
       "      <td>Hot chocolate</td>\n",
       "    </tr>\n",
       "    <tr>\n",
       "      <th>4</th>\n",
       "      <td>2016-10-30</td>\n",
       "      <td>10:07:57</td>\n",
       "      <td>3</td>\n",
       "      <td>Jam</td>\n",
       "    </tr>\n",
       "  </tbody>\n",
       "</table>\n",
       "</div>"
      ],
      "text/plain": [
       "         Date      Time  Transaction           Item\n",
       "0  2016-10-30  09:58:11            1          Bread\n",
       "1  2016-10-30  10:05:34            2   Scandinavian\n",
       "2  2016-10-30  10:05:34            2   Scandinavian\n",
       "3  2016-10-30  10:07:57            3  Hot chocolate\n",
       "4  2016-10-30  10:07:57            3            Jam"
      ]
     },
     "execution_count": 2,
     "metadata": {},
     "output_type": "execute_result"
    }
   ],
   "source": [
    "data=pd.read_csv('BreadBasket_DMS.csv')\n",
    "data.head()"
   ]
  },
  {
   "cell_type": "code",
   "execution_count": 3,
   "metadata": {
    "_uuid": "ce65d836db01c3ef1fb0aa613499829344244cb1"
   },
   "outputs": [
    {
     "data": {
      "text/plain": [
       "(21293, 4)"
      ]
     },
     "execution_count": 3,
     "metadata": {},
     "output_type": "execute_result"
    }
   ],
   "source": [
    "data.shape"
   ]
  },
  {
   "cell_type": "code",
   "execution_count": 4,
   "metadata": {
    "_uuid": "f20a2cdb2dc5573a6a7177e836e6149e31aad128"
   },
   "outputs": [
    {
     "data": {
      "text/html": [
       "<div>\n",
       "<style scoped>\n",
       "    .dataframe tbody tr th:only-of-type {\n",
       "        vertical-align: middle;\n",
       "    }\n",
       "\n",
       "    .dataframe tbody tr th {\n",
       "        vertical-align: top;\n",
       "    }\n",
       "\n",
       "    .dataframe thead th {\n",
       "        text-align: right;\n",
       "    }\n",
       "</style>\n",
       "<table border=\"1\" class=\"dataframe\">\n",
       "  <thead>\n",
       "    <tr style=\"text-align: right;\">\n",
       "      <th></th>\n",
       "      <th>Transaction</th>\n",
       "    </tr>\n",
       "  </thead>\n",
       "  <tbody>\n",
       "    <tr>\n",
       "      <th>count</th>\n",
       "      <td>21293.000000</td>\n",
       "    </tr>\n",
       "    <tr>\n",
       "      <th>mean</th>\n",
       "      <td>4951.990889</td>\n",
       "    </tr>\n",
       "    <tr>\n",
       "      <th>std</th>\n",
       "      <td>2787.758400</td>\n",
       "    </tr>\n",
       "    <tr>\n",
       "      <th>min</th>\n",
       "      <td>1.000000</td>\n",
       "    </tr>\n",
       "    <tr>\n",
       "      <th>25%</th>\n",
       "      <td>2548.000000</td>\n",
       "    </tr>\n",
       "    <tr>\n",
       "      <th>50%</th>\n",
       "      <td>5067.000000</td>\n",
       "    </tr>\n",
       "    <tr>\n",
       "      <th>75%</th>\n",
       "      <td>7329.000000</td>\n",
       "    </tr>\n",
       "    <tr>\n",
       "      <th>max</th>\n",
       "      <td>9684.000000</td>\n",
       "    </tr>\n",
       "  </tbody>\n",
       "</table>\n",
       "</div>"
      ],
      "text/plain": [
       "        Transaction\n",
       "count  21293.000000\n",
       "mean    4951.990889\n",
       "std     2787.758400\n",
       "min        1.000000\n",
       "25%     2548.000000\n",
       "50%     5067.000000\n",
       "75%     7329.000000\n",
       "max     9684.000000"
      ]
     },
     "execution_count": 4,
     "metadata": {},
     "output_type": "execute_result"
    }
   ],
   "source": [
    "data.describe()"
   ]
  },
  {
   "cell_type": "code",
   "execution_count": 5,
   "metadata": {
    "_uuid": "d8502bd5472ec6fa6fdbb0385182c2439142403f"
   },
   "outputs": [
    {
     "data": {
      "text/plain": [
       "(21293, 4)"
      ]
     },
     "execution_count": 5,
     "metadata": {},
     "output_type": "execute_result"
    }
   ],
   "source": [
    "data.shape"
   ]
  },
  {
   "cell_type": "code",
   "execution_count": 6,
   "metadata": {
    "_uuid": "4c9ff67b16f33514600cbfd062244cba616e70db",
    "scrolled": true
   },
   "outputs": [
    {
     "name": "stdout",
     "output_type": "stream",
     "text": [
      "<class 'pandas.core.frame.DataFrame'>\n",
      "RangeIndex: 21293 entries, 0 to 21292\n",
      "Data columns (total 4 columns):\n",
      "Date           21293 non-null object\n",
      "Time           21293 non-null object\n",
      "Transaction    21293 non-null int64\n",
      "Item           21293 non-null object\n",
      "dtypes: int64(1), object(3)\n",
      "memory usage: 665.5+ KB\n"
     ]
    }
   ],
   "source": [
    "data.info()"
   ]
  },
  {
   "cell_type": "markdown",
   "metadata": {
    "_uuid": "b57db90af35192e05c02df3cb587dd58cc870d52"
   },
   "source": [
    "While exploring this dataset, I found that although there was no evident null value, some of the items (786)  were labeled as 'NONE'.  So, I removed these items from the data."
   ]
  },
  {
   "cell_type": "code",
   "execution_count": 7,
   "metadata": {
    "_uuid": "47e83cac15e53cbfac5e8c8ab8dd0b18e2e48061",
    "scrolled": true
   },
   "outputs": [
    {
     "data": {
      "text/plain": [
       "Date           786\n",
       "Time           786\n",
       "Transaction    786\n",
       "Item           786\n",
       "dtype: int64"
      ]
     },
     "execution_count": 7,
     "metadata": {},
     "output_type": "execute_result"
    }
   ],
   "source": [
    "data.loc[data['Item']=='NONE',:].count()"
   ]
  },
  {
   "cell_type": "code",
   "execution_count": 8,
   "metadata": {
    "_uuid": "0d38df63e7924d43bdc8c7b0c3ac0a1984844f38"
   },
   "outputs": [],
   "source": [
    "data=data.drop(data.loc[data['Item']=='NONE'].index)"
   ]
  },
  {
   "cell_type": "markdown",
   "metadata": {
    "_uuid": "66a069cc663eacf8d26d4dd8a39d4de156b97e95"
   },
   "source": [
    "Next question that comes up is- how many items is this bakery selling? And the answer is that this bakery menu contains 94 items and the best seller among them is Coffee."
   ]
  },
  {
   "cell_type": "code",
   "execution_count": 9,
   "metadata": {
    "_uuid": "f2c15c18054f52fe2bfb204b12c80a8e84e9ee8d"
   },
   "outputs": [
    {
     "data": {
      "text/plain": [
       "94"
      ]
     },
     "execution_count": 9,
     "metadata": {},
     "output_type": "execute_result"
    }
   ],
   "source": [
    "data['Item'].nunique()"
   ]
  },
  {
   "cell_type": "code",
   "execution_count": 10,
   "metadata": {
    "_uuid": "db5533399c250b579861d69f50b930b498160840"
   },
   "outputs": [
    {
     "data": {
      "text/plain": [
       "Coffee           5471\n",
       "Bread            3325\n",
       "Tea              1435\n",
       "Cake             1025\n",
       "Pastry            856\n",
       "Sandwich          771\n",
       "Medialuna         616\n",
       "Hot chocolate     590\n",
       "Cookies           540\n",
       "Brownie           379\n",
       "Name: Item, dtype: int64"
      ]
     },
     "execution_count": 10,
     "metadata": {},
     "output_type": "execute_result"
    }
   ],
   "source": [
    "data['Item'].value_counts().sort_values(ascending=False).head(10)"
   ]
  },
  {
   "cell_type": "code",
   "execution_count": 11,
   "metadata": {
    "_uuid": "48d141bef844e48d02741af2f9c4504289f6b889"
   },
   "outputs": [
    {
     "data": {
      "text/plain": [
       "Text(0.5,1,'Best sellers')"
      ]
     },
     "execution_count": 11,
     "metadata": {},
     "output_type": "execute_result"
    },
    {
     "data": {
      "image/png": "[encoded data removed]",
      "text/plain": [
       "<Figure size 432x288 with 1 Axes>"
      ]
     },
     "metadata": {},
     "output_type": "display_data"
    }
   ],
   "source": [
    "fig, ax=plt.subplots(figsize=(6,4))\n",
    "data['Item'].value_counts().sort_values(ascending=False).head(10).plot(kind='bar')\n",
    "plt.ylabel('Number of transactions')\n",
    "plt.xlabel('Items')\n",
    "ax.get_yaxis().get_major_formatter().set_scientific(False)\n",
    "plt.title('Best sellers')"
   ]
  },
  {
   "cell_type": "markdown",
   "metadata": {
    "_uuid": "c26e3e39bc5d3fe07030087d9fe6d2ed6e85544f"
   },
   "source": [
    "Next interesting thing to find out is that when is the bakery doing the most business during the day. Here, it seems that the bakery is most busy during afternoon and morning and has little business during evening and night."
   ]
  },
  {
   "cell_type": "code",
   "execution_count": 12,
   "metadata": {
    "_uuid": "996f9dff7d760e8d4903c65df77624beb1b6b3b7"
   },
   "outputs": [],
   "source": [
    "data.loc[(data['Time']<'12:00:00'),'Daytime']='Morning'\n",
    "data.loc[(data['Time']>='12:00:00')&(data['Time']<'17:00:00'),'Daytime']='Afternoon'\n",
    "data.loc[(data['Time']>='17:00:00')&(data['Time']<'21:00:00'),'Daytime']='Evening'\n",
    "data.loc[(data['Time']>='21:00:00')&(data['Time']<'23:50:00'),'Daytime']='Night'"
   ]
  },
  {
   "cell_type": "code",
   "execution_count": 13,
   "metadata": {
    "_uuid": "2eb733a00d496bf97b402dcb47e5b6f5d9d1ee5f"
   },
   "outputs": [
    {
     "data": {
      "text/plain": [
       "Text(0.5,1,'Business during the day')"
      ]
     },
     "execution_count": 13,
     "metadata": {},
     "output_type": "execute_result"
    },
    {
     "data": {
      "image/png": "[encoded data removed]",
      "text/plain": [
       "<Figure size 432x288 with 1 Axes>"
      ]
     },
     "metadata": {},
     "output_type": "display_data"
    }
   ],
   "source": [
    "fig, ax=plt.subplots(figsize=(6,4))\n",
    "sns.set_style('darkgrid')\n",
    "data.groupby('Daytime')['Item'].count().sort_values().plot(kind='bar')\n",
    "plt.ylabel('Number of transactions')\n",
    "ax.get_yaxis().get_major_formatter().set_scientific(False)\n",
    "plt.title('Business during the day')"
   ]
  },
  {
   "cell_type": "markdown",
   "metadata": {
    "_uuid": "8f3651bab4e562dd3966a4218f2b87815374255a"
   },
   "source": [
    "During its nearly 6 months in business, this bakery has sold over 11569 items during afternoon and only 14 items during night hours."
   ]
  },
  {
   "cell_type": "code",
   "execution_count": 14,
   "metadata": {
    "_uuid": "74c81d2af877f9295f6e49da6f3027280e10e825"
   },
   "outputs": [
    {
     "data": {
      "text/plain": [
       "Daytime\n",
       "Afternoon    11569\n",
       "Morning       8404\n",
       "Evening        520\n",
       "Night           14\n",
       "Name: Item, dtype: int64"
      ]
     },
     "execution_count": 14,
     "metadata": {},
     "output_type": "execute_result"
    }
   ],
   "source": [
    "data.groupby('Daytime')['Item'].count().sort_values(ascending=False)"
   ]
  },
  {
   "cell_type": "markdown",
   "metadata": {
    "_uuid": "34cacbb23d1ef697f2f72fa0d219b8ef1f02b62c"
   },
   "source": [
    "For further analysis, I needed to extract month and day from the dataset which is done as shown below."
   ]
  },
  {
   "cell_type": "code",
   "execution_count": 15,
   "metadata": {
    "_uuid": "975e3f3d764f74a3c5626bd0e129ef9c1d04b101"
   },
   "outputs": [
    {
     "data": {
      "text/html": [
       "<div>\n",
       "<style scoped>\n",
       "    .dataframe tbody tr th:only-of-type {\n",
       "        vertical-align: middle;\n",
       "    }\n",
       "\n",
       "    .dataframe tbody tr th {\n",
       "        vertical-align: top;\n",
       "    }\n",
       "\n",
       "    .dataframe thead th {\n",
       "        text-align: right;\n",
       "    }\n",
       "</style>\n",
       "<table border=\"1\" class=\"dataframe\">\n",
       "  <thead>\n",
       "    <tr style=\"text-align: right;\">\n",
       "      <th></th>\n",
       "      <th>Transaction</th>\n",
       "      <th>Item</th>\n",
       "      <th>Daytime</th>\n",
       "      <th>Day</th>\n",
       "      <th>Month</th>\n",
       "      <th>Month_name</th>\n",
       "      <th>Year</th>\n",
       "      <th>Year_Month</th>\n",
       "    </tr>\n",
       "    <tr>\n",
       "      <th>Date</th>\n",
       "      <th></th>\n",
       "      <th></th>\n",
       "      <th></th>\n",
       "      <th></th>\n",
       "      <th></th>\n",
       "      <th></th>\n",
       "      <th></th>\n",
       "      <th></th>\n",
       "    </tr>\n",
       "  </thead>\n",
       "  <tbody>\n",
       "    <tr>\n",
       "      <th>2016-10-30 09:58:11</th>\n",
       "      <td>1</td>\n",
       "      <td>Bread</td>\n",
       "      <td>Morning</td>\n",
       "      <td>Sunday</td>\n",
       "      <td>10</td>\n",
       "      <td>October</td>\n",
       "      <td>2016</td>\n",
       "      <td>2016 October</td>\n",
       "    </tr>\n",
       "    <tr>\n",
       "      <th>2016-10-30 10:05:34</th>\n",
       "      <td>2</td>\n",
       "      <td>Scandinavian</td>\n",
       "      <td>Morning</td>\n",
       "      <td>Sunday</td>\n",
       "      <td>10</td>\n",
       "      <td>October</td>\n",
       "      <td>2016</td>\n",
       "      <td>2016 October</td>\n",
       "    </tr>\n",
       "    <tr>\n",
       "      <th>2016-10-30 10:05:34</th>\n",
       "      <td>2</td>\n",
       "      <td>Scandinavian</td>\n",
       "      <td>Morning</td>\n",
       "      <td>Sunday</td>\n",
       "      <td>10</td>\n",
       "      <td>October</td>\n",
       "      <td>2016</td>\n",
       "      <td>2016 October</td>\n",
       "    </tr>\n",
       "    <tr>\n",
       "      <th>2016-10-30 10:07:57</th>\n",
       "      <td>3</td>\n",
       "      <td>Hot chocolate</td>\n",
       "      <td>Morning</td>\n",
       "      <td>Sunday</td>\n",
       "      <td>10</td>\n",
       "      <td>October</td>\n",
       "      <td>2016</td>\n",
       "      <td>2016 October</td>\n",
       "    </tr>\n",
       "    <tr>\n",
       "      <th>2016-10-30 10:07:57</th>\n",
       "      <td>3</td>\n",
       "      <td>Jam</td>\n",
       "      <td>Morning</td>\n",
       "      <td>Sunday</td>\n",
       "      <td>10</td>\n",
       "      <td>October</td>\n",
       "      <td>2016</td>\n",
       "      <td>2016 October</td>\n",
       "    </tr>\n",
       "  </tbody>\n",
       "</table>\n",
       "</div>"
      ],
      "text/plain": [
       "                     Transaction           Item  Daytime     Day  Month  \\\n",
       "Date                                                                      \n",
       "2016-10-30 09:58:11            1          Bread  Morning  Sunday     10   \n",
       "2016-10-30 10:05:34            2   Scandinavian  Morning  Sunday     10   \n",
       "2016-10-30 10:05:34            2   Scandinavian  Morning  Sunday     10   \n",
       "2016-10-30 10:07:57            3  Hot chocolate  Morning  Sunday     10   \n",
       "2016-10-30 10:07:57            3            Jam  Morning  Sunday     10   \n",
       "\n",
       "                    Month_name  Year    Year_Month  \n",
       "Date                                                \n",
       "2016-10-30 09:58:11    October  2016  2016 October  \n",
       "2016-10-30 10:05:34    October  2016  2016 October  \n",
       "2016-10-30 10:05:34    October  2016  2016 October  \n",
       "2016-10-30 10:07:57    October  2016  2016 October  \n",
       "2016-10-30 10:07:57    October  2016  2016 October  "
      ]
     },
     "execution_count": 15,
     "metadata": {},
     "output_type": "execute_result"
    }
   ],
   "source": [
    "data['Date_Time']=pd.to_datetime(data['Date']+' '+data['Time'])\n",
    "data['Day']=data['Date_Time'].dt.day_name()\n",
    "data['Month']=data['Date_Time'].dt.month\n",
    "data['Month_name']=data['Date_Time'].dt.month_name()\n",
    "data['Year']=data['Date_Time'].dt.year\n",
    "data['Year_Month']=data['Year'].apply(str)+' '+data['Month_name'].apply(str)\n",
    "data.drop(['Date','Time'], axis=1, inplace=True)\n",
    "\n",
    "data.index=data['Date_Time']\n",
    "data.index.name='Date'\n",
    "data.drop(['Date_Time'],axis=1,inplace=True)\n",
    "data.head()"
   ]
  },
  {
   "cell_type": "markdown",
   "metadata": {
    "_uuid": "1021742750bb422e5a478819b7bf0d5e55717bd3"
   },
   "source": [
    "The plot shows the performance of bakery during different months of its short existence. October and April showed less business which was due to few number of operational days in these months- 2 and 7 respectively."
   ]
  },
  {
   "cell_type": "code",
   "execution_count": 16,
   "metadata": {
    "_uuid": "33bfefb81b32b3715eddd4c5b8e33a95aa4be6ef",
    "scrolled": false
   },
   "outputs": [
    {
     "data": {
      "text/plain": [
       "Text(0.5,1,'Business during the past months')"
      ]
     },
     "execution_count": 16,
     "metadata": {},
     "output_type": "execute_result"
    },
    {
     "data": {
      "image/png": "[encoded data removed]",
      "text/plain": [
       "<Figure size 432x288 with 1 Axes>"
      ]
     },
     "metadata": {},
     "output_type": "display_data"
    }
   ],
   "source": [
    "data.groupby('Year_Month')['Item'].count().plot(kind='bar')\n",
    "plt.ylabel('Number of transactions')\n",
    "plt.title('Business during the past months')"
   ]
  },
  {
   "cell_type": "code",
   "execution_count": 17,
   "metadata": {
    "_uuid": "eb7ac0b87d4b40dbf6e857686074eb545135a82c"
   },
   "outputs": [
    {
     "data": {
      "text/plain": [
       "Transaction    175\n",
       "Item            30\n",
       "Daytime          3\n",
       "Day              2\n",
       "Month            1\n",
       "Month_name       1\n",
       "Year             1\n",
       "Year_Month       1\n",
       "dtype: int64"
      ]
     },
     "execution_count": 17,
     "metadata": {},
     "output_type": "execute_result"
    }
   ],
   "source": [
    "data.loc[data['Year_Month']=='2016 October'].nunique()"
   ]
  },
  {
   "cell_type": "code",
   "execution_count": 18,
   "metadata": {
    "_uuid": "c8b7595196596fbf5e256fb340ca43c1f056871e"
   },
   "outputs": [
    {
     "data": {
      "text/plain": [
       "Transaction    509\n",
       "Item            49\n",
       "Daytime          4\n",
       "Day              7\n",
       "Month            1\n",
       "Month_name       1\n",
       "Year             1\n",
       "Year_Month       1\n",
       "dtype: int64"
      ]
     },
     "execution_count": 18,
     "metadata": {},
     "output_type": "execute_result"
    }
   ],
   "source": [
    "data.loc[data['Year_Month']=='2017 April'].nunique()"
   ]
  },
  {
   "cell_type": "markdown",
   "metadata": {
    "_uuid": "976101c7f5a47421a6665558fed660e11fbe3ba8"
   },
   "source": [
    "Next, I was interested in finding out monthly bestseller. This table below shows not only the item that has maximum buyers but one can also check how many quantities of their items of interest  were sold . As expected, coffee is the topseller in all the months."
   ]
  },
  {
   "cell_type": "code",
   "execution_count": 19,
   "metadata": {
    "_uuid": "660367acef3da8503c93840a93a4fe8966981067"
   },
   "outputs": [
    {
     "data": {
      "text/html": [
       "<div>\n",
       "<style scoped>\n",
       "    .dataframe tbody tr th:only-of-type {\n",
       "        vertical-align: middle;\n",
       "    }\n",
       "\n",
       "    .dataframe tbody tr th {\n",
       "        vertical-align: top;\n",
       "    }\n",
       "\n",
       "    .dataframe thead tr th {\n",
       "        text-align: left;\n",
       "    }\n",
       "\n",
       "    .dataframe thead tr:last-of-type th {\n",
       "        text-align: right;\n",
       "    }\n",
       "</style>\n",
       "<table border=\"1\" class=\"dataframe\">\n",
       "  <thead>\n",
       "    <tr>\n",
       "      <th></th>\n",
       "      <th colspan=\"20\" halign=\"left\">Item</th>\n",
       "      <th>Max</th>\n",
       "    </tr>\n",
       "    <tr>\n",
       "      <th>Item</th>\n",
       "      <th>Adjustment</th>\n",
       "      <th>Afternoon with the baker</th>\n",
       "      <th>Alfajores</th>\n",
       "      <th>Argentina Night</th>\n",
       "      <th>Art Tray</th>\n",
       "      <th>Bacon</th>\n",
       "      <th>Baguette</th>\n",
       "      <th>Bakewell</th>\n",
       "      <th>Bare Popcorn</th>\n",
       "      <th>Basket</th>\n",
       "      <th>...</th>\n",
       "      <th>The Nomad</th>\n",
       "      <th>Tiffin</th>\n",
       "      <th>Toast</th>\n",
       "      <th>Truffles</th>\n",
       "      <th>Tshirt</th>\n",
       "      <th>Valentine's card</th>\n",
       "      <th>Vegan Feast</th>\n",
       "      <th>Vegan mincepie</th>\n",
       "      <th>Victorian Sponge</th>\n",
       "      <th></th>\n",
       "    </tr>\n",
       "    <tr>\n",
       "      <th>Month_name</th>\n",
       "      <th></th>\n",
       "      <th></th>\n",
       "      <th></th>\n",
       "      <th></th>\n",
       "      <th></th>\n",
       "      <th></th>\n",
       "      <th></th>\n",
       "      <th></th>\n",
       "      <th></th>\n",
       "      <th></th>\n",
       "      <th></th>\n",
       "      <th></th>\n",
       "      <th></th>\n",
       "      <th></th>\n",
       "      <th></th>\n",
       "      <th></th>\n",
       "      <th></th>\n",
       "      <th></th>\n",
       "      <th></th>\n",
       "      <th></th>\n",
       "      <th></th>\n",
       "    </tr>\n",
       "  </thead>\n",
       "  <tbody>\n",
       "    <tr>\n",
       "      <th>April</th>\n",
       "      <td>0.0</td>\n",
       "      <td>2.0</td>\n",
       "      <td>24.0</td>\n",
       "      <td>5.0</td>\n",
       "      <td>1.0</td>\n",
       "      <td>0.0</td>\n",
       "      <td>11.0</td>\n",
       "      <td>0.0</td>\n",
       "      <td>0.0</td>\n",
       "      <td>0.0</td>\n",
       "      <td>...</td>\n",
       "      <td>8.0</td>\n",
       "      <td>20.0</td>\n",
       "      <td>22.0</td>\n",
       "      <td>22.0</td>\n",
       "      <td>0.0</td>\n",
       "      <td>0.0</td>\n",
       "      <td>7.0</td>\n",
       "      <td>0.0</td>\n",
       "      <td>0.0</td>\n",
       "      <td>(Item, Coffee)</td>\n",
       "    </tr>\n",
       "    <tr>\n",
       "      <th>December</th>\n",
       "      <td>0.0</td>\n",
       "      <td>0.0</td>\n",
       "      <td>45.0</td>\n",
       "      <td>0.0</td>\n",
       "      <td>6.0</td>\n",
       "      <td>0.0</td>\n",
       "      <td>0.0</td>\n",
       "      <td>8.0</td>\n",
       "      <td>3.0</td>\n",
       "      <td>0.0</td>\n",
       "      <td>...</td>\n",
       "      <td>10.0</td>\n",
       "      <td>0.0</td>\n",
       "      <td>65.0</td>\n",
       "      <td>27.0</td>\n",
       "      <td>0.0</td>\n",
       "      <td>0.0</td>\n",
       "      <td>0.0</td>\n",
       "      <td>33.0</td>\n",
       "      <td>0.0</td>\n",
       "      <td>(Item, Coffee)</td>\n",
       "    </tr>\n",
       "    <tr>\n",
       "      <th>February</th>\n",
       "      <td>0.0</td>\n",
       "      <td>13.0</td>\n",
       "      <td>112.0</td>\n",
       "      <td>0.0</td>\n",
       "      <td>5.0</td>\n",
       "      <td>0.0</td>\n",
       "      <td>60.0</td>\n",
       "      <td>1.0</td>\n",
       "      <td>2.0</td>\n",
       "      <td>0.0</td>\n",
       "      <td>...</td>\n",
       "      <td>12.0</td>\n",
       "      <td>26.0</td>\n",
       "      <td>72.0</td>\n",
       "      <td>37.0</td>\n",
       "      <td>21.0</td>\n",
       "      <td>12.0</td>\n",
       "      <td>3.0</td>\n",
       "      <td>5.0</td>\n",
       "      <td>0.0</td>\n",
       "      <td>(Item, Coffee)</td>\n",
       "    </tr>\n",
       "    <tr>\n",
       "      <th>January</th>\n",
       "      <td>0.0</td>\n",
       "      <td>15.0</td>\n",
       "      <td>39.0</td>\n",
       "      <td>0.0</td>\n",
       "      <td>5.0</td>\n",
       "      <td>0.0</td>\n",
       "      <td>20.0</td>\n",
       "      <td>10.0</td>\n",
       "      <td>0.0</td>\n",
       "      <td>0.0</td>\n",
       "      <td>...</td>\n",
       "      <td>15.0</td>\n",
       "      <td>36.0</td>\n",
       "      <td>79.0</td>\n",
       "      <td>30.0</td>\n",
       "      <td>0.0</td>\n",
       "      <td>1.0</td>\n",
       "      <td>0.0</td>\n",
       "      <td>13.0</td>\n",
       "      <td>0.0</td>\n",
       "      <td>(Item, Coffee)</td>\n",
       "    </tr>\n",
       "    <tr>\n",
       "      <th>March</th>\n",
       "      <td>0.0</td>\n",
       "      <td>14.0</td>\n",
       "      <td>8.0</td>\n",
       "      <td>2.0</td>\n",
       "      <td>3.0</td>\n",
       "      <td>0.0</td>\n",
       "      <td>61.0</td>\n",
       "      <td>19.0</td>\n",
       "      <td>0.0</td>\n",
       "      <td>0.0</td>\n",
       "      <td>...</td>\n",
       "      <td>10.0</td>\n",
       "      <td>57.0</td>\n",
       "      <td>80.0</td>\n",
       "      <td>48.0</td>\n",
       "      <td>0.0</td>\n",
       "      <td>0.0</td>\n",
       "      <td>6.0</td>\n",
       "      <td>3.0</td>\n",
       "      <td>0.0</td>\n",
       "      <td>(Item, Coffee)</td>\n",
       "    </tr>\n",
       "    <tr>\n",
       "      <th>November</th>\n",
       "      <td>1.0</td>\n",
       "      <td>0.0</td>\n",
       "      <td>141.0</td>\n",
       "      <td>0.0</td>\n",
       "      <td>18.0</td>\n",
       "      <td>1.0</td>\n",
       "      <td>0.0</td>\n",
       "      <td>10.0</td>\n",
       "      <td>0.0</td>\n",
       "      <td>4.0</td>\n",
       "      <td>...</td>\n",
       "      <td>3.0</td>\n",
       "      <td>7.0</td>\n",
       "      <td>0.0</td>\n",
       "      <td>29.0</td>\n",
       "      <td>0.0</td>\n",
       "      <td>0.0</td>\n",
       "      <td>0.0</td>\n",
       "      <td>0.0</td>\n",
       "      <td>4.0</td>\n",
       "      <td>(Item, Coffee)</td>\n",
       "    </tr>\n",
       "    <tr>\n",
       "      <th>October</th>\n",
       "      <td>0.0</td>\n",
       "      <td>0.0</td>\n",
       "      <td>0.0</td>\n",
       "      <td>0.0</td>\n",
       "      <td>0.0</td>\n",
       "      <td>0.0</td>\n",
       "      <td>0.0</td>\n",
       "      <td>0.0</td>\n",
       "      <td>0.0</td>\n",
       "      <td>2.0</td>\n",
       "      <td>...</td>\n",
       "      <td>0.0</td>\n",
       "      <td>0.0</td>\n",
       "      <td>0.0</td>\n",
       "      <td>0.0</td>\n",
       "      <td>0.0</td>\n",
       "      <td>0.0</td>\n",
       "      <td>0.0</td>\n",
       "      <td>0.0</td>\n",
       "      <td>3.0</td>\n",
       "      <td>(Item, Coffee)</td>\n",
       "    </tr>\n",
       "  </tbody>\n",
       "</table>\n",
       "<p>7 rows × 95 columns</p>\n",
       "</div>"
      ],
      "text/plain": [
       "                 Item                                                     \\\n",
       "Item       Adjustment Afternoon with the baker Alfajores Argentina Night   \n",
       "Month_name                                                                 \n",
       "April             0.0                      2.0      24.0             5.0   \n",
       "December          0.0                      0.0      45.0             0.0   \n",
       "February          0.0                     13.0     112.0             0.0   \n",
       "January           0.0                     15.0      39.0             0.0   \n",
       "March             0.0                     14.0       8.0             2.0   \n",
       "November          1.0                      0.0     141.0             0.0   \n",
       "October           0.0                      0.0       0.0             0.0   \n",
       "\n",
       "                                                                 \\\n",
       "Item       Art Tray Bacon Baguette Bakewell Bare Popcorn Basket   \n",
       "Month_name                                                        \n",
       "April           1.0   0.0     11.0      0.0          0.0    0.0   \n",
       "December        6.0   0.0      0.0      8.0          3.0    0.0   \n",
       "February        5.0   0.0     60.0      1.0          2.0    0.0   \n",
       "January         5.0   0.0     20.0     10.0          0.0    0.0   \n",
       "March           3.0   0.0     61.0     19.0          0.0    0.0   \n",
       "November       18.0   1.0      0.0     10.0          0.0    4.0   \n",
       "October         0.0   0.0      0.0      0.0          0.0    2.0   \n",
       "\n",
       "                 ...                                               \\\n",
       "Item             ...       The Nomad Tiffin Toast Truffles Tshirt   \n",
       "Month_name       ...                                                \n",
       "April            ...             8.0   20.0  22.0     22.0    0.0   \n",
       "December         ...            10.0    0.0  65.0     27.0    0.0   \n",
       "February         ...            12.0   26.0  72.0     37.0   21.0   \n",
       "January          ...            15.0   36.0  79.0     30.0    0.0   \n",
       "March            ...            10.0   57.0  80.0     48.0    0.0   \n",
       "November         ...             3.0    7.0   0.0     29.0    0.0   \n",
       "October          ...             0.0    0.0   0.0      0.0    0.0   \n",
       "\n",
       "                                                                         \\\n",
       "Item       Valentine's card Vegan Feast Vegan mincepie Victorian Sponge   \n",
       "Month_name                                                                \n",
       "April                   0.0         7.0            0.0              0.0   \n",
       "December                0.0         0.0           33.0              0.0   \n",
       "February               12.0         3.0            5.0              0.0   \n",
       "January                 1.0         0.0           13.0              0.0   \n",
       "March                   0.0         6.0            3.0              0.0   \n",
       "November                0.0         0.0            0.0              4.0   \n",
       "October                 0.0         0.0            0.0              3.0   \n",
       "\n",
       "                       Max  \n",
       "Item                        \n",
       "Month_name                  \n",
       "April       (Item, Coffee)  \n",
       "December    (Item, Coffee)  \n",
       "February    (Item, Coffee)  \n",
       "January     (Item, Coffee)  \n",
       "March       (Item, Coffee)  \n",
       "November    (Item, Coffee)  \n",
       "October     (Item, Coffee)  \n",
       "\n",
       "[7 rows x 95 columns]"
      ]
     },
     "execution_count": 19,
     "metadata": {},
     "output_type": "execute_result"
    }
   ],
   "source": [
    "data2=data.pivot_table(index='Month_name',columns='Item', aggfunc={'Item':'count'}).fillna(0)\n",
    "data2['Max']=data2.idxmax(axis=1)\n",
    "data2\n"
   ]
  },
  {
   "cell_type": "markdown",
   "metadata": {
    "_uuid": "ab9ef63893458105e4dec7e609e2fa5e9edaea8d"
   },
   "source": [
    "Here, I checked for the daytime bestseller. Coffee top the charts during morning, afternoon and evening, but for obvious reasons it is not the favourite during night. Vegan feast is the best seller for nights."
   ]
  },
  {
   "cell_type": "code",
   "execution_count": 20,
   "metadata": {
    "_uuid": "09dc2dc507e3318b0a679cc5ac64754f09617607"
   },
   "outputs": [
    {
     "data": {
      "text/html": [
       "<div>\n",
       "<style scoped>\n",
       "    .dataframe tbody tr th:only-of-type {\n",
       "        vertical-align: middle;\n",
       "    }\n",
       "\n",
       "    .dataframe tbody tr th {\n",
       "        vertical-align: top;\n",
       "    }\n",
       "\n",
       "    .dataframe thead tr th {\n",
       "        text-align: left;\n",
       "    }\n",
       "\n",
       "    .dataframe thead tr:last-of-type th {\n",
       "        text-align: right;\n",
       "    }\n",
       "</style>\n",
       "<table border=\"1\" class=\"dataframe\">\n",
       "  <thead>\n",
       "    <tr>\n",
       "      <th></th>\n",
       "      <th colspan=\"20\" halign=\"left\">Item</th>\n",
       "      <th>Max</th>\n",
       "    </tr>\n",
       "    <tr>\n",
       "      <th>Item</th>\n",
       "      <th>Adjustment</th>\n",
       "      <th>Afternoon with the baker</th>\n",
       "      <th>Alfajores</th>\n",
       "      <th>Argentina Night</th>\n",
       "      <th>Art Tray</th>\n",
       "      <th>Bacon</th>\n",
       "      <th>Baguette</th>\n",
       "      <th>Bakewell</th>\n",
       "      <th>Bare Popcorn</th>\n",
       "      <th>Basket</th>\n",
       "      <th>...</th>\n",
       "      <th>The Nomad</th>\n",
       "      <th>Tiffin</th>\n",
       "      <th>Toast</th>\n",
       "      <th>Truffles</th>\n",
       "      <th>Tshirt</th>\n",
       "      <th>Valentine's card</th>\n",
       "      <th>Vegan Feast</th>\n",
       "      <th>Vegan mincepie</th>\n",
       "      <th>Victorian Sponge</th>\n",
       "      <th></th>\n",
       "    </tr>\n",
       "    <tr>\n",
       "      <th>Daytime</th>\n",
       "      <th></th>\n",
       "      <th></th>\n",
       "      <th></th>\n",
       "      <th></th>\n",
       "      <th></th>\n",
       "      <th></th>\n",
       "      <th></th>\n",
       "      <th></th>\n",
       "      <th></th>\n",
       "      <th></th>\n",
       "      <th></th>\n",
       "      <th></th>\n",
       "      <th></th>\n",
       "      <th></th>\n",
       "      <th></th>\n",
       "      <th></th>\n",
       "      <th></th>\n",
       "      <th></th>\n",
       "      <th></th>\n",
       "      <th></th>\n",
       "      <th></th>\n",
       "    </tr>\n",
       "  </thead>\n",
       "  <tbody>\n",
       "    <tr>\n",
       "      <th>Afternoon</th>\n",
       "      <td>0.0</td>\n",
       "      <td>19.0</td>\n",
       "      <td>245.0</td>\n",
       "      <td>3.0</td>\n",
       "      <td>31.0</td>\n",
       "      <td>1.0</td>\n",
       "      <td>67.0</td>\n",
       "      <td>30.0</td>\n",
       "      <td>4.0</td>\n",
       "      <td>0.0</td>\n",
       "      <td>...</td>\n",
       "      <td>31.0</td>\n",
       "      <td>93.0</td>\n",
       "      <td>114.0</td>\n",
       "      <td>152.0</td>\n",
       "      <td>0.0</td>\n",
       "      <td>4.0</td>\n",
       "      <td>4.0</td>\n",
       "      <td>30.0</td>\n",
       "      <td>5.0</td>\n",
       "      <td>(Item, Coffee)</td>\n",
       "    </tr>\n",
       "    <tr>\n",
       "      <th>Evening</th>\n",
       "      <td>1.0</td>\n",
       "      <td>15.0</td>\n",
       "      <td>17.0</td>\n",
       "      <td>0.0</td>\n",
       "      <td>2.0</td>\n",
       "      <td>0.0</td>\n",
       "      <td>1.0</td>\n",
       "      <td>0.0</td>\n",
       "      <td>1.0</td>\n",
       "      <td>0.0</td>\n",
       "      <td>...</td>\n",
       "      <td>1.0</td>\n",
       "      <td>4.0</td>\n",
       "      <td>0.0</td>\n",
       "      <td>7.0</td>\n",
       "      <td>21.0</td>\n",
       "      <td>4.0</td>\n",
       "      <td>3.0</td>\n",
       "      <td>2.0</td>\n",
       "      <td>0.0</td>\n",
       "      <td>(Item, Coffee)</td>\n",
       "    </tr>\n",
       "    <tr>\n",
       "      <th>Morning</th>\n",
       "      <td>0.0</td>\n",
       "      <td>10.0</td>\n",
       "      <td>107.0</td>\n",
       "      <td>4.0</td>\n",
       "      <td>5.0</td>\n",
       "      <td>0.0</td>\n",
       "      <td>84.0</td>\n",
       "      <td>18.0</td>\n",
       "      <td>0.0</td>\n",
       "      <td>6.0</td>\n",
       "      <td>...</td>\n",
       "      <td>26.0</td>\n",
       "      <td>49.0</td>\n",
       "      <td>204.0</td>\n",
       "      <td>34.0</td>\n",
       "      <td>0.0</td>\n",
       "      <td>3.0</td>\n",
       "      <td>2.0</td>\n",
       "      <td>22.0</td>\n",
       "      <td>2.0</td>\n",
       "      <td>(Item, Coffee)</td>\n",
       "    </tr>\n",
       "    <tr>\n",
       "      <th>Night</th>\n",
       "      <td>0.0</td>\n",
       "      <td>0.0</td>\n",
       "      <td>0.0</td>\n",
       "      <td>0.0</td>\n",
       "      <td>0.0</td>\n",
       "      <td>0.0</td>\n",
       "      <td>0.0</td>\n",
       "      <td>0.0</td>\n",
       "      <td>0.0</td>\n",
       "      <td>0.0</td>\n",
       "      <td>...</td>\n",
       "      <td>0.0</td>\n",
       "      <td>0.0</td>\n",
       "      <td>0.0</td>\n",
       "      <td>0.0</td>\n",
       "      <td>0.0</td>\n",
       "      <td>2.0</td>\n",
       "      <td>7.0</td>\n",
       "      <td>0.0</td>\n",
       "      <td>0.0</td>\n",
       "      <td>(Item, Vegan Feast)</td>\n",
       "    </tr>\n",
       "  </tbody>\n",
       "</table>\n",
       "<p>4 rows × 95 columns</p>\n",
       "</div>"
      ],
      "text/plain": [
       "                Item                                                     \\\n",
       "Item      Adjustment Afternoon with the baker Alfajores Argentina Night   \n",
       "Daytime                                                                   \n",
       "Afternoon        0.0                     19.0     245.0             3.0   \n",
       "Evening          1.0                     15.0      17.0             0.0   \n",
       "Morning          0.0                     10.0     107.0             4.0   \n",
       "Night            0.0                      0.0       0.0             0.0   \n",
       "\n",
       "                                                                \\\n",
       "Item      Art Tray Bacon Baguette Bakewell Bare Popcorn Basket   \n",
       "Daytime                                                          \n",
       "Afternoon     31.0   1.0     67.0     30.0          4.0    0.0   \n",
       "Evening        2.0   0.0      1.0      0.0          1.0    0.0   \n",
       "Morning        5.0   0.0     84.0     18.0          0.0    6.0   \n",
       "Night          0.0   0.0      0.0      0.0          0.0    0.0   \n",
       "\n",
       "                  ...                                                   \\\n",
       "Item              ...          The Nomad Tiffin  Toast Truffles Tshirt   \n",
       "Daytime           ...                                                    \n",
       "Afternoon         ...               31.0   93.0  114.0    152.0    0.0   \n",
       "Evening           ...                1.0    4.0    0.0      7.0   21.0   \n",
       "Morning           ...               26.0   49.0  204.0     34.0    0.0   \n",
       "Night             ...                0.0    0.0    0.0      0.0    0.0   \n",
       "\n",
       "                                                                        \\\n",
       "Item      Valentine's card Vegan Feast Vegan mincepie Victorian Sponge   \n",
       "Daytime                                                                  \n",
       "Afternoon              4.0         4.0           30.0              5.0   \n",
       "Evening                4.0         3.0            2.0              0.0   \n",
       "Morning                3.0         2.0           22.0              2.0   \n",
       "Night                  2.0         7.0            0.0              0.0   \n",
       "\n",
       "                           Max  \n",
       "Item                            \n",
       "Daytime                         \n",
       "Afternoon       (Item, Coffee)  \n",
       "Evening         (Item, Coffee)  \n",
       "Morning         (Item, Coffee)  \n",
       "Night      (Item, Vegan Feast)  \n",
       "\n",
       "[4 rows x 95 columns]"
      ]
     },
     "execution_count": 20,
     "metadata": {},
     "output_type": "execute_result"
    }
   ],
   "source": [
    "data3=data.pivot_table(index='Daytime',columns='Item', aggfunc={'Item':'count'}).fillna(0)\n",
    "data3['Max']=data3.idxmax(axis=1)\n",
    "data3"
   ]
  },
  {
   "cell_type": "markdown",
   "metadata": {
    "_uuid": "4d32d583f3b9afae8e06b6fcab38c5f61d120d2e"
   },
   "source": [
    "As expected, Coffee is the best seller from Monday to Sunday."
   ]
  },
  {
   "cell_type": "code",
   "execution_count": 21,
   "metadata": {
    "_uuid": "acc57c03b7137e55f3afbfb056b6fb0829c5e77a"
   },
   "outputs": [
    {
     "data": {
      "text/html": [
       "<div>\n",
       "<style scoped>\n",
       "    .dataframe tbody tr th:only-of-type {\n",
       "        vertical-align: middle;\n",
       "    }\n",
       "\n",
       "    .dataframe tbody tr th {\n",
       "        vertical-align: top;\n",
       "    }\n",
       "\n",
       "    .dataframe thead tr th {\n",
       "        text-align: left;\n",
       "    }\n",
       "\n",
       "    .dataframe thead tr:last-of-type th {\n",
       "        text-align: right;\n",
       "    }\n",
       "</style>\n",
       "<table border=\"1\" class=\"dataframe\">\n",
       "  <thead>\n",
       "    <tr>\n",
       "      <th></th>\n",
       "      <th colspan=\"20\" halign=\"left\">Item</th>\n",
       "      <th>Max</th>\n",
       "    </tr>\n",
       "    <tr>\n",
       "      <th>Item</th>\n",
       "      <th>Adjustment</th>\n",
       "      <th>Afternoon with the baker</th>\n",
       "      <th>Alfajores</th>\n",
       "      <th>Argentina Night</th>\n",
       "      <th>Art Tray</th>\n",
       "      <th>Bacon</th>\n",
       "      <th>Baguette</th>\n",
       "      <th>Bakewell</th>\n",
       "      <th>Bare Popcorn</th>\n",
       "      <th>Basket</th>\n",
       "      <th>...</th>\n",
       "      <th>The Nomad</th>\n",
       "      <th>Tiffin</th>\n",
       "      <th>Toast</th>\n",
       "      <th>Truffles</th>\n",
       "      <th>Tshirt</th>\n",
       "      <th>Valentine's card</th>\n",
       "      <th>Vegan Feast</th>\n",
       "      <th>Vegan mincepie</th>\n",
       "      <th>Victorian Sponge</th>\n",
       "      <th></th>\n",
       "    </tr>\n",
       "    <tr>\n",
       "      <th>Day</th>\n",
       "      <th></th>\n",
       "      <th></th>\n",
       "      <th></th>\n",
       "      <th></th>\n",
       "      <th></th>\n",
       "      <th></th>\n",
       "      <th></th>\n",
       "      <th></th>\n",
       "      <th></th>\n",
       "      <th></th>\n",
       "      <th></th>\n",
       "      <th></th>\n",
       "      <th></th>\n",
       "      <th></th>\n",
       "      <th></th>\n",
       "      <th></th>\n",
       "      <th></th>\n",
       "      <th></th>\n",
       "      <th></th>\n",
       "      <th></th>\n",
       "      <th></th>\n",
       "    </tr>\n",
       "  </thead>\n",
       "  <tbody>\n",
       "    <tr>\n",
       "      <th>Friday</th>\n",
       "      <td>0.0</td>\n",
       "      <td>7.0</td>\n",
       "      <td>59.0</td>\n",
       "      <td>0.0</td>\n",
       "      <td>4.0</td>\n",
       "      <td>0.0</td>\n",
       "      <td>21.0</td>\n",
       "      <td>3.0</td>\n",
       "      <td>0.0</td>\n",
       "      <td>0.0</td>\n",
       "      <td>...</td>\n",
       "      <td>6.0</td>\n",
       "      <td>37.0</td>\n",
       "      <td>63.0</td>\n",
       "      <td>33.0</td>\n",
       "      <td>0.0</td>\n",
       "      <td>1.0</td>\n",
       "      <td>1.0</td>\n",
       "      <td>9.0</td>\n",
       "      <td>0.0</td>\n",
       "      <td>(Item, Coffee)</td>\n",
       "    </tr>\n",
       "    <tr>\n",
       "      <th>Monday</th>\n",
       "      <td>0.0</td>\n",
       "      <td>5.0</td>\n",
       "      <td>32.0</td>\n",
       "      <td>0.0</td>\n",
       "      <td>2.0</td>\n",
       "      <td>0.0</td>\n",
       "      <td>10.0</td>\n",
       "      <td>8.0</td>\n",
       "      <td>0.0</td>\n",
       "      <td>0.0</td>\n",
       "      <td>...</td>\n",
       "      <td>5.0</td>\n",
       "      <td>3.0</td>\n",
       "      <td>38.0</td>\n",
       "      <td>29.0</td>\n",
       "      <td>0.0</td>\n",
       "      <td>0.0</td>\n",
       "      <td>0.0</td>\n",
       "      <td>5.0</td>\n",
       "      <td>0.0</td>\n",
       "      <td>(Item, Coffee)</td>\n",
       "    </tr>\n",
       "    <tr>\n",
       "      <th>Saturday</th>\n",
       "      <td>0.0</td>\n",
       "      <td>12.0</td>\n",
       "      <td>67.0</td>\n",
       "      <td>5.0</td>\n",
       "      <td>5.0</td>\n",
       "      <td>0.0</td>\n",
       "      <td>33.0</td>\n",
       "      <td>8.0</td>\n",
       "      <td>0.0</td>\n",
       "      <td>3.0</td>\n",
       "      <td>...</td>\n",
       "      <td>24.0</td>\n",
       "      <td>35.0</td>\n",
       "      <td>53.0</td>\n",
       "      <td>46.0</td>\n",
       "      <td>21.0</td>\n",
       "      <td>7.0</td>\n",
       "      <td>10.0</td>\n",
       "      <td>11.0</td>\n",
       "      <td>1.0</td>\n",
       "      <td>(Item, Coffee)</td>\n",
       "    </tr>\n",
       "    <tr>\n",
       "      <th>Sunday</th>\n",
       "      <td>0.0</td>\n",
       "      <td>14.0</td>\n",
       "      <td>70.0</td>\n",
       "      <td>1.0</td>\n",
       "      <td>7.0</td>\n",
       "      <td>1.0</td>\n",
       "      <td>21.0</td>\n",
       "      <td>11.0</td>\n",
       "      <td>0.0</td>\n",
       "      <td>3.0</td>\n",
       "      <td>...</td>\n",
       "      <td>15.0</td>\n",
       "      <td>28.0</td>\n",
       "      <td>36.0</td>\n",
       "      <td>23.0</td>\n",
       "      <td>0.0</td>\n",
       "      <td>0.0</td>\n",
       "      <td>2.0</td>\n",
       "      <td>9.0</td>\n",
       "      <td>4.0</td>\n",
       "      <td>(Item, Coffee)</td>\n",
       "    </tr>\n",
       "    <tr>\n",
       "      <th>Thursday</th>\n",
       "      <td>0.0</td>\n",
       "      <td>2.0</td>\n",
       "      <td>57.0</td>\n",
       "      <td>1.0</td>\n",
       "      <td>8.0</td>\n",
       "      <td>0.0</td>\n",
       "      <td>21.0</td>\n",
       "      <td>3.0</td>\n",
       "      <td>4.0</td>\n",
       "      <td>0.0</td>\n",
       "      <td>...</td>\n",
       "      <td>3.0</td>\n",
       "      <td>25.0</td>\n",
       "      <td>53.0</td>\n",
       "      <td>23.0</td>\n",
       "      <td>0.0</td>\n",
       "      <td>3.0</td>\n",
       "      <td>0.0</td>\n",
       "      <td>7.0</td>\n",
       "      <td>0.0</td>\n",
       "      <td>(Item, Coffee)</td>\n",
       "    </tr>\n",
       "    <tr>\n",
       "      <th>Tuesday</th>\n",
       "      <td>0.0</td>\n",
       "      <td>2.0</td>\n",
       "      <td>43.0</td>\n",
       "      <td>0.0</td>\n",
       "      <td>6.0</td>\n",
       "      <td>0.0</td>\n",
       "      <td>23.0</td>\n",
       "      <td>13.0</td>\n",
       "      <td>0.0</td>\n",
       "      <td>0.0</td>\n",
       "      <td>...</td>\n",
       "      <td>2.0</td>\n",
       "      <td>5.0</td>\n",
       "      <td>40.0</td>\n",
       "      <td>19.0</td>\n",
       "      <td>0.0</td>\n",
       "      <td>2.0</td>\n",
       "      <td>2.0</td>\n",
       "      <td>8.0</td>\n",
       "      <td>1.0</td>\n",
       "      <td>(Item, Coffee)</td>\n",
       "    </tr>\n",
       "    <tr>\n",
       "      <th>Wednesday</th>\n",
       "      <td>1.0</td>\n",
       "      <td>2.0</td>\n",
       "      <td>41.0</td>\n",
       "      <td>0.0</td>\n",
       "      <td>6.0</td>\n",
       "      <td>0.0</td>\n",
       "      <td>23.0</td>\n",
       "      <td>2.0</td>\n",
       "      <td>1.0</td>\n",
       "      <td>0.0</td>\n",
       "      <td>...</td>\n",
       "      <td>3.0</td>\n",
       "      <td>13.0</td>\n",
       "      <td>35.0</td>\n",
       "      <td>20.0</td>\n",
       "      <td>0.0</td>\n",
       "      <td>0.0</td>\n",
       "      <td>1.0</td>\n",
       "      <td>5.0</td>\n",
       "      <td>1.0</td>\n",
       "      <td>(Item, Coffee)</td>\n",
       "    </tr>\n",
       "  </tbody>\n",
       "</table>\n",
       "<p>7 rows × 95 columns</p>\n",
       "</div>"
      ],
      "text/plain": [
       "                Item                                                     \\\n",
       "Item      Adjustment Afternoon with the baker Alfajores Argentina Night   \n",
       "Day                                                                       \n",
       "Friday           0.0                      7.0      59.0             0.0   \n",
       "Monday           0.0                      5.0      32.0             0.0   \n",
       "Saturday         0.0                     12.0      67.0             5.0   \n",
       "Sunday           0.0                     14.0      70.0             1.0   \n",
       "Thursday         0.0                      2.0      57.0             1.0   \n",
       "Tuesday          0.0                      2.0      43.0             0.0   \n",
       "Wednesday        1.0                      2.0      41.0             0.0   \n",
       "\n",
       "                                                                \\\n",
       "Item      Art Tray Bacon Baguette Bakewell Bare Popcorn Basket   \n",
       "Day                                                              \n",
       "Friday         4.0   0.0     21.0      3.0          0.0    0.0   \n",
       "Monday         2.0   0.0     10.0      8.0          0.0    0.0   \n",
       "Saturday       5.0   0.0     33.0      8.0          0.0    3.0   \n",
       "Sunday         7.0   1.0     21.0     11.0          0.0    3.0   \n",
       "Thursday       8.0   0.0     21.0      3.0          4.0    0.0   \n",
       "Tuesday        6.0   0.0     23.0     13.0          0.0    0.0   \n",
       "Wednesday      6.0   0.0     23.0      2.0          1.0    0.0   \n",
       "\n",
       "                ...                                               \\\n",
       "Item            ...       The Nomad Tiffin Toast Truffles Tshirt   \n",
       "Day             ...                                                \n",
       "Friday          ...             6.0   37.0  63.0     33.0    0.0   \n",
       "Monday          ...             5.0    3.0  38.0     29.0    0.0   \n",
       "Saturday        ...            24.0   35.0  53.0     46.0   21.0   \n",
       "Sunday          ...            15.0   28.0  36.0     23.0    0.0   \n",
       "Thursday        ...             3.0   25.0  53.0     23.0    0.0   \n",
       "Tuesday         ...             2.0    5.0  40.0     19.0    0.0   \n",
       "Wednesday       ...             3.0   13.0  35.0     20.0    0.0   \n",
       "\n",
       "                                                                        \\\n",
       "Item      Valentine's card Vegan Feast Vegan mincepie Victorian Sponge   \n",
       "Day                                                                      \n",
       "Friday                 1.0         1.0            9.0              0.0   \n",
       "Monday                 0.0         0.0            5.0              0.0   \n",
       "Saturday               7.0        10.0           11.0              1.0   \n",
       "Sunday                 0.0         2.0            9.0              4.0   \n",
       "Thursday               3.0         0.0            7.0              0.0   \n",
       "Tuesday                2.0         2.0            8.0              1.0   \n",
       "Wednesday              0.0         1.0            5.0              1.0   \n",
       "\n",
       "                      Max  \n",
       "Item                       \n",
       "Day                        \n",
       "Friday     (Item, Coffee)  \n",
       "Monday     (Item, Coffee)  \n",
       "Saturday   (Item, Coffee)  \n",
       "Sunday     (Item, Coffee)  \n",
       "Thursday   (Item, Coffee)  \n",
       "Tuesday    (Item, Coffee)  \n",
       "Wednesday  (Item, Coffee)  \n",
       "\n",
       "[7 rows x 95 columns]"
      ]
     },
     "execution_count": 21,
     "metadata": {},
     "output_type": "execute_result"
    }
   ],
   "source": [
    "data4=data.pivot_table(index='Day',columns='Item', aggfunc={'Item':'count'}).fillna(0)\n",
    "data4['Max']=data4.idxmax(axis=1)\n",
    "data4"
   ]
  },
  {
   "cell_type": "markdown",
   "metadata": {
    "_uuid": "044f71489c0b211622691e6e407bca763b40f3fa"
   },
   "source": [
    "I was curious about the business growth of this bakery. For that I have plotted some line plots. As observed above in the barplot, November showed maximum business for the bakery, followed by February and March, with a dip shown for December and January."
   ]
  },
  {
   "cell_type": "code",
   "execution_count": 22,
   "metadata": {
    "_uuid": "b027e98aa839e5dc457a034eb117b7dc6406f0e9"
   },
   "outputs": [
    {
     "data": {
      "text/plain": [
       "Text(0.5,1,'Business during the past months')"
      ]
     },
     "execution_count": 22,
     "metadata": {},
     "output_type": "execute_result"
    },
    {
     "data": {
      "image/png": "[encoded data removed]",
      "text/plain": [
       "<Figure size 432x288 with 1 Axes>"
      ]
     },
     "metadata": {},
     "output_type": "display_data"
    }
   ],
   "source": [
    "data['Item'].resample('M').count().plot()\n",
    "plt.ylabel('Number of transactions')\n",
    "plt.title('Business during the past months')"
   ]
  },
  {
   "cell_type": "markdown",
   "metadata": {
    "_uuid": "5eb5c0494d80413d0a730ec2b6ac08288c5412c4"
   },
   "source": [
    "The next plot shows weekly performance of the bakery. A big dip in business is shown around end of December and start of first week of January"
   ]
  },
  {
   "cell_type": "code",
   "execution_count": 23,
   "metadata": {
    "_uuid": "e01af6a058e05f5afc5b589ca7f93f711cf756ed",
    "scrolled": false
   },
   "outputs": [
    {
     "data": {
      "text/plain": [
       "Text(0.5,1,'Weekly business during the past months')"
      ]
     },
     "execution_count": 23,
     "metadata": {},
     "output_type": "execute_result"
    },
    {
     "data": {
      "image/png": "[encoded data removed]",
      "text/plain": [
       "<Figure size 432x288 with 1 Axes>"
      ]
     },
     "metadata": {},
     "output_type": "display_data"
    }
   ],
   "source": [
    "data['Item'].resample('W').count().plot()\n",
    "plt.ylabel('Number of transactions')\n",
    "plt.title('Weekly business during the past months')"
   ]
  },
  {
   "cell_type": "markdown",
   "metadata": {
    "_uuid": "8121ac6cc53cd38916562ff3fe779c78a3e579eb"
   },
   "source": [
    "I zoomed in to the daily performance of the bakery and found that there have been days around December end and January beginning when the bakery sold 0 item."
   ]
  },
  {
   "cell_type": "code",
   "execution_count": 24,
   "metadata": {
    "_uuid": "8244bcd03bef44f273677ea6380e5b087c39c59f"
   },
   "outputs": [
    {
     "data": {
      "text/plain": [
       "Text(0.5,1,'Daily business during the past months')"
      ]
     },
     "execution_count": 24,
     "metadata": {},
     "output_type": "execute_result"
    },
    {
     "data": {
      "image/png": "[encoded data removed]",
      "text/plain": [
       "<Figure size 432x288 with 1 Axes>"
      ]
     },
     "metadata": {},
     "output_type": "display_data"
    }
   ],
   "source": [
    "data['Item'].resample('D').count().plot()\n",
    "plt.ylabel('Number of transactions')\n",
    "plt.title('Daily business during the past months')"
   ]
  },
  {
   "cell_type": "code",
   "execution_count": 25,
   "metadata": {
    "_uuid": "a8633e724282dc0dad4b116d4df9c25c575e9687"
   },
   "outputs": [
    {
     "data": {
      "text/plain": [
       "0"
      ]
     },
     "execution_count": 25,
     "metadata": {},
     "output_type": "execute_result"
    }
   ],
   "source": [
    "data['Item'].resample('D').count().min()"
   ]
  },
  {
   "cell_type": "markdown",
   "metadata": {
    "_uuid": "ebb7721227d3b70c02423bbaccb5dc28d82a05a8"
   },
   "source": [
    "During the most profitable day the bakery could sell around 292 items and this happened in February (as seen in the daily graph above).  "
   ]
  },
  {
   "cell_type": "code",
   "execution_count": 26,
   "metadata": {
    "_uuid": "f79df5ef124c71bab2cd4b8f4ff40a6d0390664a",
    "scrolled": true
   },
   "outputs": [
    {
     "data": {
      "text/plain": [
       "292"
      ]
     },
     "execution_count": 26,
     "metadata": {},
     "output_type": "execute_result"
    }
   ],
   "source": [
    "data['Item'].resample('D').count().max()"
   ]
  },
  {
   "cell_type": "markdown",
   "metadata": {
    "_uuid": "1ff52907024f1d783c764a90e02a5df81e249af1"
   },
   "source": [
    "### Apriori Algorithm and Association Rule:\n",
    "Next, I plan to perform an association rule analysis which gives an idea about how things are associated to each other. The common metrics to measure association are-\n",
    "1. Support- It is the measure of frequency or abundance of an item in a dataset. It can be 'antecedent support', 'consequent support', and 'support'. 'antecedent support' contains proportion of transactions done for the antecedent while 'consequent support' involves  those for consequent. 'Support' is computed for both antecedent and consequent in question.\n",
    "2. Confidence-This gives the probability of consequent in a transaction given the presence of antecedent.\n",
    "3. Lift- Given that antecedents and consequents are independent, how often do they come together/bought together.\n",
    "4. Leverage- It is the difference between frequency of antecedent and consequent together in transactions to frequency of both in independent transactions.\n",
    "5.Conviction- A higher conviction score means that consequent is highly dependent on antecedent.\n",
    "\n",
    "Apriori algorithm is used to extract frequent itemsets that are further used for association rule analysis. In this algorithm, user defines a minimum support that is the minimum threshold that decides if an itemset is considered as 'frequent'. "
   ]
  },
  {
   "cell_type": "markdown",
   "metadata": {
    "_uuid": "faf36723fef924e995b822a44a20895689de0cda"
   },
   "source": [
    "To begin with association rule analysis, I made a dataset that contains lists of items that are bought together."
   ]
  },
  {
   "cell_type": "code",
   "execution_count": 27,
   "metadata": {
    "_uuid": "2c6f412dea9c31fe5fe4624c86c50990c0f645db"
   },
   "outputs": [
    {
     "name": "stdout",
     "output_type": "stream",
     "text": [
      "[['Bread'], ['Scandinavian'], ['Hot chocolate', 'Jam', 'Cookies']]\n",
      "9465\n"
     ]
    }
   ],
   "source": [
    "lst=[]\n",
    "for item in data['Transaction'].unique():\n",
    "    lst2=list(set(data[data['Transaction']==item]['Item']))\n",
    "    if len(lst2)>0:\n",
    "        lst.append(lst2)\n",
    "print(lst[0:3])\n",
    "print(len(lst))"
   ]
  },
  {
   "cell_type": "markdown",
   "metadata": {
    "_uuid": "b870d4578e1b09804d639e3883573e68c6fb2bb5"
   },
   "source": [
    "For Apriori algorithm, this dataset needs to be one-hot encoded. This is done using TransactionEncoder as shown here, followed by apriori algorithm to get the frequent itemsets. Then association rules function is used which can take any metric. Here I have used 'lift' and specified minimum threshold as 1.    "
   ]
  },
  {
   "cell_type": "code",
   "execution_count": 28,
   "metadata": {
    "_uuid": "6601dd38f802d81000e78552295c0c96a9c0ca37"
   },
   "outputs": [
    {
     "name": "stdout",
     "output_type": "stream",
     "text": [
      "   Adjustment  Afternoon with the baker  Alfajores  Argentina Night  Art Tray  \\\n",
      "0       False                     False      False            False     False   \n",
      "1       False                     False      False            False     False   \n",
      "2       False                     False      False            False     False   \n",
      "3       False                     False      False            False     False   \n",
      "4       False                     False      False            False     False   \n",
      "\n",
      "   Bacon  Baguette  Bakewell  Bare Popcorn  Basket        ...         \\\n",
      "0  False     False     False         False   False        ...          \n",
      "1  False     False     False         False   False        ...          \n",
      "2  False     False     False         False   False        ...          \n",
      "3  False     False     False         False   False        ...          \n",
      "4  False     False     False         False   False        ...          \n",
      "\n",
      "   The BART  The Nomad  Tiffin  Toast  Truffles  Tshirt  Valentine's card  \\\n",
      "0     False      False   False  False     False   False             False   \n",
      "1     False      False   False  False     False   False             False   \n",
      "2     False      False   False  False     False   False             False   \n",
      "3     False      False   False  False     False   False             False   \n",
      "4     False      False   False  False     False   False             False   \n",
      "\n",
      "   Vegan Feast  Vegan mincepie  Victorian Sponge  \n",
      "0        False           False             False  \n",
      "1        False           False             False  \n",
      "2        False           False             False  \n",
      "3        False           False             False  \n",
      "4        False           False             False  \n",
      "\n",
      "[5 rows x 94 columns]\n",
      "    support     itemsets\n",
      "0  0.036344  (Alfajores)\n",
      "1  0.327205      (Bread)\n",
      "2  0.040042    (Brownie)\n",
      "3  0.103856       (Cake)\n",
      "4  0.478394     (Coffee)\n"
     ]
    },
    {
     "data": {
      "text/html": [
       "<div>\n",
       "<style scoped>\n",
       "    .dataframe tbody tr th:only-of-type {\n",
       "        vertical-align: middle;\n",
       "    }\n",
       "\n",
       "    .dataframe tbody tr th {\n",
       "        vertical-align: top;\n",
       "    }\n",
       "\n",
       "    .dataframe thead th {\n",
       "        text-align: right;\n",
       "    }\n",
       "</style>\n",
       "<table border=\"1\" class=\"dataframe\">\n",
       "  <thead>\n",
       "    <tr style=\"text-align: right;\">\n",
       "      <th></th>\n",
       "      <th>antecedents</th>\n",
       "      <th>consequents</th>\n",
       "      <th>antecedent support</th>\n",
       "      <th>consequent support</th>\n",
       "      <th>support</th>\n",
       "      <th>confidence</th>\n",
       "      <th>lift</th>\n",
       "      <th>leverage</th>\n",
       "      <th>conviction</th>\n",
       "    </tr>\n",
       "  </thead>\n",
       "  <tbody>\n",
       "    <tr>\n",
       "      <th>0</th>\n",
       "      <td>Cake</td>\n",
       "      <td>Coffee</td>\n",
       "      <td>0.103856</td>\n",
       "      <td>0.478394</td>\n",
       "      <td>0.054728</td>\n",
       "      <td>0.526958</td>\n",
       "      <td>1.101515</td>\n",
       "      <td>0.005044</td>\n",
       "      <td>1.102664</td>\n",
       "    </tr>\n",
       "    <tr>\n",
       "      <th>1</th>\n",
       "      <td>Coffee</td>\n",
       "      <td>Cake</td>\n",
       "      <td>0.478394</td>\n",
       "      <td>0.103856</td>\n",
       "      <td>0.054728</td>\n",
       "      <td>0.114399</td>\n",
       "      <td>1.101515</td>\n",
       "      <td>0.005044</td>\n",
       "      <td>1.011905</td>\n",
       "    </tr>\n",
       "    <tr>\n",
       "      <th>2</th>\n",
       "      <td>Medialuna</td>\n",
       "      <td>Coffee</td>\n",
       "      <td>0.061807</td>\n",
       "      <td>0.478394</td>\n",
       "      <td>0.035182</td>\n",
       "      <td>0.569231</td>\n",
       "      <td>1.189878</td>\n",
       "      <td>0.005614</td>\n",
       "      <td>1.210871</td>\n",
       "    </tr>\n",
       "    <tr>\n",
       "      <th>3</th>\n",
       "      <td>Coffee</td>\n",
       "      <td>Medialuna</td>\n",
       "      <td>0.478394</td>\n",
       "      <td>0.061807</td>\n",
       "      <td>0.035182</td>\n",
       "      <td>0.073542</td>\n",
       "      <td>1.189878</td>\n",
       "      <td>0.005614</td>\n",
       "      <td>1.012667</td>\n",
       "    </tr>\n",
       "    <tr>\n",
       "      <th>4</th>\n",
       "      <td>Pastry</td>\n",
       "      <td>Coffee</td>\n",
       "      <td>0.086107</td>\n",
       "      <td>0.478394</td>\n",
       "      <td>0.047544</td>\n",
       "      <td>0.552147</td>\n",
       "      <td>1.154168</td>\n",
       "      <td>0.006351</td>\n",
       "      <td>1.164682</td>\n",
       "    </tr>\n",
       "    <tr>\n",
       "      <th>5</th>\n",
       "      <td>Coffee</td>\n",
       "      <td>Pastry</td>\n",
       "      <td>0.478394</td>\n",
       "      <td>0.086107</td>\n",
       "      <td>0.047544</td>\n",
       "      <td>0.099382</td>\n",
       "      <td>1.154168</td>\n",
       "      <td>0.006351</td>\n",
       "      <td>1.014740</td>\n",
       "    </tr>\n",
       "    <tr>\n",
       "      <th>6</th>\n",
       "      <td>Sandwich</td>\n",
       "      <td>Coffee</td>\n",
       "      <td>0.071844</td>\n",
       "      <td>0.478394</td>\n",
       "      <td>0.038246</td>\n",
       "      <td>0.532353</td>\n",
       "      <td>1.112792</td>\n",
       "      <td>0.003877</td>\n",
       "      <td>1.115384</td>\n",
       "    </tr>\n",
       "    <tr>\n",
       "      <th>7</th>\n",
       "      <td>Coffee</td>\n",
       "      <td>Sandwich</td>\n",
       "      <td>0.478394</td>\n",
       "      <td>0.071844</td>\n",
       "      <td>0.038246</td>\n",
       "      <td>0.079947</td>\n",
       "      <td>1.112792</td>\n",
       "      <td>0.003877</td>\n",
       "      <td>1.008807</td>\n",
       "    </tr>\n",
       "  </tbody>\n",
       "</table>\n",
       "</div>"
      ],
      "text/plain": [
       "  antecedents consequents  antecedent support  consequent support   support  \\\n",
       "0        Cake      Coffee            0.103856            0.478394  0.054728   \n",
       "1      Coffee        Cake            0.478394            0.103856  0.054728   \n",
       "2   Medialuna      Coffee            0.061807            0.478394  0.035182   \n",
       "3      Coffee   Medialuna            0.478394            0.061807  0.035182   \n",
       "4      Pastry      Coffee            0.086107            0.478394  0.047544   \n",
       "5      Coffee      Pastry            0.478394            0.086107  0.047544   \n",
       "6    Sandwich      Coffee            0.071844            0.478394  0.038246   \n",
       "7      Coffee    Sandwich            0.478394            0.071844  0.038246   \n",
       "\n",
       "   confidence      lift  leverage  conviction  \n",
       "0    0.526958  1.101515  0.005044    1.102664  \n",
       "1    0.114399  1.101515  0.005044    1.011905  \n",
       "2    0.569231  1.189878  0.005614    1.210871  \n",
       "3    0.073542  1.189878  0.005614    1.012667  \n",
       "4    0.552147  1.154168  0.006351    1.164682  \n",
       "5    0.099382  1.154168  0.006351    1.014740  \n",
       "6    0.532353  1.112792  0.003877    1.115384  \n",
       "7    0.079947  1.112792  0.003877    1.008807  "
      ]
     },
     "execution_count": 28,
     "metadata": {},
     "output_type": "execute_result"
    }
   ],
   "source": [
    "te=TransactionEncoder()\n",
    "te_data=te.fit(lst).transform(lst)\n",
    "data_x=pd.DataFrame(te_data,columns=te.columns_)\n",
    "print(data_x.head())\n",
    "\n",
    "frequent_items= apriori(data_x, use_colnames=True, min_support=0.03)\n",
    "print(frequent_items.head())\n",
    "\n",
    "rules = association_rules(frequent_items, metric=\"lift\", min_threshold=1)\n",
    "rules.antecedents = rules.antecedents.apply(lambda x: next(iter(x)))\n",
    "rules.consequents = rules.consequents.apply(lambda x: next(iter(x)))\n",
    "rules"
   ]
  },
  {
   "cell_type": "markdown",
   "metadata": {
    "_uuid": "9b1b0e5b50d4b175d183fb61e4a7cea1e653a687"
   },
   "source": [
    "Next I used NetworkX (a Python package for the creation and study of complex networks) to build a network graph to check association between antecedents and consequents obtained after association rule. As can be seen from it, coffee is a very popular item that goes well with pastry, cake, medialuna and sandwich sold in this bakery. So, if a person is buying any of the last four items the chances of buying a coffee is high (also the reverse is true i.e. if a person is buying a coffee then likelihood of her/him buying any of the 4 items is high).\n",
    "\n"
   ]
  },
  {
   "cell_type": "code",
   "execution_count": 29,
   "metadata": {
    "_uuid": "a0527e7eef46035e50ea9cc2e0a35212b34b7aa4",
    "scrolled": true
   },
   "outputs": [
    {
     "data": {
      "image/png": "[encoded data removed]",
      "text/plain": [
       "<Figure size 720x288 with 1 Axes>"
      ]
     },
     "metadata": {},
     "output_type": "display_data"
    }
   ],
   "source": [
    "fig, ax=plt.subplots(figsize=(10,4))\n",
    "GA=nx.from_pandas_edgelist(rules,source='antecedents',target='consequents')\n",
    "nx.draw(GA,with_labels=True)\n",
    "plt.show()\n"
   ]
  },
  {
   "cell_type": "markdown",
   "metadata": {
    "_uuid": "8101fa722db80de048f2c9041ad7e61baded9cc1"
   },
   "source": [
    "### Conclusion\n",
    "Coffee is the bestseller of this bakery and it shows association with 4 items-  pastry, cake, medialuna and sandwich.\n",
    "There are a couple of strategies that the bakery can adopt (if it isn't using them yet) to increase its sales considering the association we have seen between coffee and its 4 partners.\n",
    "1. Promotional discount in either one of the 4 partners can entice customers to buy coffee (or the other way round, will also work).\n",
    "2. Placing these 4 items close to coffee ordering counter can be a good strategy to attract customers in buying these (which we see quite often to happen in many bakeries and coffee shops).\n",
    "3. How about some recipes like a coffee cake or coffee pastry? Will that entice coffe and cake/pastry lovers?? \n"
   ]
  }
 ],
 "metadata": {
  "kernelspec": {
   "display_name": "Python 3",
   "language": "python",
   "name": "python3"
  },
  "language_info": {
   "codemirror_mode": {
    "name": "ipython",
    "version": 3
   },
   "file_extension": ".py",
   "mimetype": "text/x-python",
   "name": "python",
   "nbconvert_exporter": "python",
   "pygments_lexer": "ipython3",
   "version": "3.6.4"
  }
 },
 "nbformat": 4,
 "nbformat_minor": 1
}
